{
  "cells": [
    {
      "cell_type": "markdown",
      "metadata": {
        "id": "5562ea6c-bc90-44ff-b1f0-401ca5e6c270"
      },
      "source": [
        "<h1><b>Những mô hình hồi quy (regression) và phương pháp đánh giá (metrics)"
      ],
      "id": "5562ea6c-bc90-44ff-b1f0-401ca5e6c270"
    },
    {
      "cell_type": "markdown",
      "metadata": {
        "id": "1c458c57-9b9d-493e-8376-1b6e6f761d75"
      },
      "source": [
        "Trong lĩnh vực machine learning, các mô hình máy học đóng vai trò cốt lõi nên việc xây dựng và sử dụng các mô hình máy học là một phần kiến thức quan trọng. Một trong những nhiệm vụ quan trọng của học máy là mô hình hóa các mối quan hệ tuyến tính trong dữ liệu. Trong bài tập này, chúng ta sẽ tập trung vào bài toán hồi quy, một phần quan trọng của machine learning, để dự đoán một biến mục tiêu dựa trên các biến khác.\n",
        "\n",
        "Trong bài tập này, chúng ta sẽ đào sâu vào các bước cơ bản của việc xây dựng và đánh giá mô hình. Chúng ta sẽ trải nghiệm chúng thông qua một bài tập với các nhiệm vụ chính như:\n",
        "\n",
        "* Xây dựng bộ dự liệu\n",
        "* Huấn luyện mô hình\n",
        "* Đánh giá mô hình\n",
        "\n",
        "Khi bạn hoàn thành bài tập này, bạn sẽ có hiểu biết thực tế về việc sử dụng Python và thư viện machine learning để giải quyết bài toán hồi quy. Kỹ năng này là quan trọng trong việc xây dựng các ứng dụng dự đoán và phân tích dữ liệu trong nhiều lĩnh vực khác nhau."
      ],
      "id": "1c458c57-9b9d-493e-8376-1b6e6f761d75"
    },
    {
      "cell_type": "markdown",
      "metadata": {
        "id": "d20412c5-940c-4827-bece-8c2d3a462524"
      },
      "source": [
        "Ta cần import những thư viện cần thiết"
      ],
      "id": "d20412c5-940c-4827-bece-8c2d3a462524"
    },
    {
      "cell_type": "code",
      "execution_count": 61,
      "metadata": {
        "id": "13a59327-ada8-4be7-8346-ca6d08959420"
      },
      "outputs": [],
      "source": [
        "import numpy as np\n",
        "import pandas as pd\n",
        "\n",
        "from sklearn.linear_model import LinearRegression\n",
        "from sklearn.svm import SVR\n",
        "from sklearn.neighbors import KNeighborsRegressor\n",
        "from sklearn.tree import DecisionTreeRegressor\n",
        "\n",
        "from sklearn.preprocessing import MinMaxScaler\n",
        "\n",
        "from sklearn.metrics import mean_squared_error\n",
        "from sklearn.metrics import mean_absolute_error\n",
        "np.random.seed(0)"
      ],
      "id": "13a59327-ada8-4be7-8346-ca6d08959420"
    },
    {
      "cell_type": "markdown",
      "metadata": {
        "id": "7b3c7e42-8fbf-40a0-a9c9-8896ddfafd1d"
      },
      "source": [
        "Ở đây ta sẽ tìm hiểu về những mô hình regression như: Linear Regression, Decision Tree Regressor, SVR, KNeighbors Regressor"
      ],
      "id": "7b3c7e42-8fbf-40a0-a9c9-8896ddfafd1d"
    },
    {
      "cell_type": "markdown",
      "metadata": {
        "id": "50de187d-b0cc-4951-ad91-999c67b7f7e9"
      },
      "source": [
        "### 1. Chuẩn bị dữ liệu dữ liệu"
      ],
      "id": "50de187d-b0cc-4951-ad91-999c67b7f7e9"
    },
    {
      "cell_type": "markdown",
      "metadata": {
        "id": "1b6227d3-2ed5-4f4f-a515-f45f8dd79305"
      },
      "source": [
        "Đầu tiên ta cần đọc dữ liệu từ file csv `USA_Housing.csv` bằng `pandas` như những bài trước và gán vào biến `df`"
      ],
      "id": "1b6227d3-2ed5-4f4f-a515-f45f8dd79305"
    },
    {
      "cell_type": "code",
      "execution_count": 62,
      "metadata": {
        "id": "b7fa822f-d633-4949-9d76-271cb11189bd"
      },
      "outputs": [],
      "source": [
        "df = pd.read_csv('./data/USA_Housing.csv')"
      ],
      "id": "b7fa822f-d633-4949-9d76-271cb11189bd"
    },
    {
      "cell_type": "markdown",
      "metadata": {
        "id": "88ed503e-e21a-4589-8d86-e3fae3e5eb09"
      },
      "source": [
        "Kiểm tra một số giá trị của df"
      ],
      "id": "88ed503e-e21a-4589-8d86-e3fae3e5eb09"
    },
    {
      "cell_type": "code",
      "execution_count": 63,
      "metadata": {
        "colab": {
          "base_uri": "https://localhost:8080/",
          "height": 345
        },
        "id": "1e4884bb-83aa-428a-b5b9-9c8ecd46f483",
        "outputId": "6872ac1a-fa6a-44d8-f62a-56f74532db3a"
      },
      "outputs": [
        {
          "output_type": "execute_result",
          "data": {
            "text/plain": [
              "   Avg. Area Income  Avg. Area House Age  Avg. Area Number of Rooms  \\\n",
              "0      79545.458574             5.682861                   7.009188   \n",
              "1      79248.642455             6.002900                   6.730821   \n",
              "2      61287.067179             5.865890                   8.512727   \n",
              "3      63345.240046             7.188236                   5.586729   \n",
              "4      59982.197226             5.040555                   7.839388   \n",
              "\n",
              "   Avg. Area Number of Bedrooms  Area Population         Price  \\\n",
              "0                          4.09     23086.800503  1.059034e+06   \n",
              "1                          3.09     40173.072174  1.505891e+06   \n",
              "2                          5.13     36882.159400  1.058988e+06   \n",
              "3                          3.26     34310.242831  1.260617e+06   \n",
              "4                          4.23     26354.109472  6.309435e+05   \n",
              "\n",
              "                                             Address  \n",
              "0  208 Michael Ferry Apt. 674\\nLaurabury, NE 3701...  \n",
              "1  188 Johnson Views Suite 079\\nLake Kathleen, CA...  \n",
              "2  9127 Elizabeth Stravenue\\nDanieltown, WI 06482...  \n",
              "3                          USS Barnett\\nFPO AP 44820  \n",
              "4                         USNS Raymond\\nFPO AE 09386  "
            ],
            "text/html": [
              "\n",
              "  <div id=\"df-7559d542-5b75-453c-aaf4-293b1027eca1\" class=\"colab-df-container\">\n",
              "    <div>\n",
              "<style scoped>\n",
              "    .dataframe tbody tr th:only-of-type {\n",
              "        vertical-align: middle;\n",
              "    }\n",
              "\n",
              "    .dataframe tbody tr th {\n",
              "        vertical-align: top;\n",
              "    }\n",
              "\n",
              "    .dataframe thead th {\n",
              "        text-align: right;\n",
              "    }\n",
              "</style>\n",
              "<table border=\"1\" class=\"dataframe\">\n",
              "  <thead>\n",
              "    <tr style=\"text-align: right;\">\n",
              "      <th></th>\n",
              "      <th>Avg. Area Income</th>\n",
              "      <th>Avg. Area House Age</th>\n",
              "      <th>Avg. Area Number of Rooms</th>\n",
              "      <th>Avg. Area Number of Bedrooms</th>\n",
              "      <th>Area Population</th>\n",
              "      <th>Price</th>\n",
              "      <th>Address</th>\n",
              "    </tr>\n",
              "  </thead>\n",
              "  <tbody>\n",
              "    <tr>\n",
              "      <th>0</th>\n",
              "      <td>79545.458574</td>\n",
              "      <td>5.682861</td>\n",
              "      <td>7.009188</td>\n",
              "      <td>4.09</td>\n",
              "      <td>23086.800503</td>\n",
              "      <td>1.059034e+06</td>\n",
              "      <td>208 Michael Ferry Apt. 674\\nLaurabury, NE 3701...</td>\n",
              "    </tr>\n",
              "    <tr>\n",
              "      <th>1</th>\n",
              "      <td>79248.642455</td>\n",
              "      <td>6.002900</td>\n",
              "      <td>6.730821</td>\n",
              "      <td>3.09</td>\n",
              "      <td>40173.072174</td>\n",
              "      <td>1.505891e+06</td>\n",
              "      <td>188 Johnson Views Suite 079\\nLake Kathleen, CA...</td>\n",
              "    </tr>\n",
              "    <tr>\n",
              "      <th>2</th>\n",
              "      <td>61287.067179</td>\n",
              "      <td>5.865890</td>\n",
              "      <td>8.512727</td>\n",
              "      <td>5.13</td>\n",
              "      <td>36882.159400</td>\n",
              "      <td>1.058988e+06</td>\n",
              "      <td>9127 Elizabeth Stravenue\\nDanieltown, WI 06482...</td>\n",
              "    </tr>\n",
              "    <tr>\n",
              "      <th>3</th>\n",
              "      <td>63345.240046</td>\n",
              "      <td>7.188236</td>\n",
              "      <td>5.586729</td>\n",
              "      <td>3.26</td>\n",
              "      <td>34310.242831</td>\n",
              "      <td>1.260617e+06</td>\n",
              "      <td>USS Barnett\\nFPO AP 44820</td>\n",
              "    </tr>\n",
              "    <tr>\n",
              "      <th>4</th>\n",
              "      <td>59982.197226</td>\n",
              "      <td>5.040555</td>\n",
              "      <td>7.839388</td>\n",
              "      <td>4.23</td>\n",
              "      <td>26354.109472</td>\n",
              "      <td>6.309435e+05</td>\n",
              "      <td>USNS Raymond\\nFPO AE 09386</td>\n",
              "    </tr>\n",
              "  </tbody>\n",
              "</table>\n",
              "</div>\n",
              "    <div class=\"colab-df-buttons\">\n",
              "\n",
              "  <div class=\"colab-df-container\">\n",
              "    <button class=\"colab-df-convert\" onclick=\"convertToInteractive('df-7559d542-5b75-453c-aaf4-293b1027eca1')\"\n",
              "            title=\"Convert this dataframe to an interactive table.\"\n",
              "            style=\"display:none;\">\n",
              "\n",
              "  <svg xmlns=\"http://www.w3.org/2000/svg\" height=\"24px\" viewBox=\"0 -960 960 960\">\n",
              "    <path d=\"M120-120v-720h720v720H120Zm60-500h600v-160H180v160Zm220 220h160v-160H400v160Zm0 220h160v-160H400v160ZM180-400h160v-160H180v160Zm440 0h160v-160H620v160ZM180-180h160v-160H180v160Zm440 0h160v-160H620v160Z\"/>\n",
              "  </svg>\n",
              "    </button>\n",
              "\n",
              "  <style>\n",
              "    .colab-df-container {\n",
              "      display:flex;\n",
              "      gap: 12px;\n",
              "    }\n",
              "\n",
              "    .colab-df-convert {\n",
              "      background-color: #E8F0FE;\n",
              "      border: none;\n",
              "      border-radius: 50%;\n",
              "      cursor: pointer;\n",
              "      display: none;\n",
              "      fill: #1967D2;\n",
              "      height: 32px;\n",
              "      padding: 0 0 0 0;\n",
              "      width: 32px;\n",
              "    }\n",
              "\n",
              "    .colab-df-convert:hover {\n",
              "      background-color: #E2EBFA;\n",
              "      box-shadow: 0px 1px 2px rgba(60, 64, 67, 0.3), 0px 1px 3px 1px rgba(60, 64, 67, 0.15);\n",
              "      fill: #174EA6;\n",
              "    }\n",
              "\n",
              "    .colab-df-buttons div {\n",
              "      margin-bottom: 4px;\n",
              "    }\n",
              "\n",
              "    [theme=dark] .colab-df-convert {\n",
              "      background-color: #3B4455;\n",
              "      fill: #D2E3FC;\n",
              "    }\n",
              "\n",
              "    [theme=dark] .colab-df-convert:hover {\n",
              "      background-color: #434B5C;\n",
              "      box-shadow: 0px 1px 3px 1px rgba(0, 0, 0, 0.15);\n",
              "      filter: drop-shadow(0px 1px 2px rgba(0, 0, 0, 0.3));\n",
              "      fill: #FFFFFF;\n",
              "    }\n",
              "  </style>\n",
              "\n",
              "    <script>\n",
              "      const buttonEl =\n",
              "        document.querySelector('#df-7559d542-5b75-453c-aaf4-293b1027eca1 button.colab-df-convert');\n",
              "      buttonEl.style.display =\n",
              "        google.colab.kernel.accessAllowed ? 'block' : 'none';\n",
              "\n",
              "      async function convertToInteractive(key) {\n",
              "        const element = document.querySelector('#df-7559d542-5b75-453c-aaf4-293b1027eca1');\n",
              "        const dataTable =\n",
              "          await google.colab.kernel.invokeFunction('convertToInteractive',\n",
              "                                                    [key], {});\n",
              "        if (!dataTable) return;\n",
              "\n",
              "        const docLinkHtml = 'Like what you see? Visit the ' +\n",
              "          '<a target=\"_blank\" href=https://colab.research.google.com/notebooks/data_table.ipynb>data table notebook</a>'\n",
              "          + ' to learn more about interactive tables.';\n",
              "        element.innerHTML = '';\n",
              "        dataTable['output_type'] = 'display_data';\n",
              "        await google.colab.output.renderOutput(dataTable, element);\n",
              "        const docLink = document.createElement('div');\n",
              "        docLink.innerHTML = docLinkHtml;\n",
              "        element.appendChild(docLink);\n",
              "      }\n",
              "    </script>\n",
              "  </div>\n",
              "\n",
              "\n",
              "<div id=\"df-e2184d0a-620b-4297-98bb-e2d6825daa78\">\n",
              "  <button class=\"colab-df-quickchart\" onclick=\"quickchart('df-e2184d0a-620b-4297-98bb-e2d6825daa78')\"\n",
              "            title=\"Suggest charts\"\n",
              "            style=\"display:none;\">\n",
              "\n",
              "<svg xmlns=\"http://www.w3.org/2000/svg\" height=\"24px\"viewBox=\"0 0 24 24\"\n",
              "     width=\"24px\">\n",
              "    <g>\n",
              "        <path d=\"M19 3H5c-1.1 0-2 .9-2 2v14c0 1.1.9 2 2 2h14c1.1 0 2-.9 2-2V5c0-1.1-.9-2-2-2zM9 17H7v-7h2v7zm4 0h-2V7h2v10zm4 0h-2v-4h2v4z\"/>\n",
              "    </g>\n",
              "</svg>\n",
              "  </button>\n",
              "\n",
              "<style>\n",
              "  .colab-df-quickchart {\n",
              "      --bg-color: #E8F0FE;\n",
              "      --fill-color: #1967D2;\n",
              "      --hover-bg-color: #E2EBFA;\n",
              "      --hover-fill-color: #174EA6;\n",
              "      --disabled-fill-color: #AAA;\n",
              "      --disabled-bg-color: #DDD;\n",
              "  }\n",
              "\n",
              "  [theme=dark] .colab-df-quickchart {\n",
              "      --bg-color: #3B4455;\n",
              "      --fill-color: #D2E3FC;\n",
              "      --hover-bg-color: #434B5C;\n",
              "      --hover-fill-color: #FFFFFF;\n",
              "      --disabled-bg-color: #3B4455;\n",
              "      --disabled-fill-color: #666;\n",
              "  }\n",
              "\n",
              "  .colab-df-quickchart {\n",
              "    background-color: var(--bg-color);\n",
              "    border: none;\n",
              "    border-radius: 50%;\n",
              "    cursor: pointer;\n",
              "    display: none;\n",
              "    fill: var(--fill-color);\n",
              "    height: 32px;\n",
              "    padding: 0;\n",
              "    width: 32px;\n",
              "  }\n",
              "\n",
              "  .colab-df-quickchart:hover {\n",
              "    background-color: var(--hover-bg-color);\n",
              "    box-shadow: 0 1px 2px rgba(60, 64, 67, 0.3), 0 1px 3px 1px rgba(60, 64, 67, 0.15);\n",
              "    fill: var(--button-hover-fill-color);\n",
              "  }\n",
              "\n",
              "  .colab-df-quickchart-complete:disabled,\n",
              "  .colab-df-quickchart-complete:disabled:hover {\n",
              "    background-color: var(--disabled-bg-color);\n",
              "    fill: var(--disabled-fill-color);\n",
              "    box-shadow: none;\n",
              "  }\n",
              "\n",
              "  .colab-df-spinner {\n",
              "    border: 2px solid var(--fill-color);\n",
              "    border-color: transparent;\n",
              "    border-bottom-color: var(--fill-color);\n",
              "    animation:\n",
              "      spin 1s steps(1) infinite;\n",
              "  }\n",
              "\n",
              "  @keyframes spin {\n",
              "    0% {\n",
              "      border-color: transparent;\n",
              "      border-bottom-color: var(--fill-color);\n",
              "      border-left-color: var(--fill-color);\n",
              "    }\n",
              "    20% {\n",
              "      border-color: transparent;\n",
              "      border-left-color: var(--fill-color);\n",
              "      border-top-color: var(--fill-color);\n",
              "    }\n",
              "    30% {\n",
              "      border-color: transparent;\n",
              "      border-left-color: var(--fill-color);\n",
              "      border-top-color: var(--fill-color);\n",
              "      border-right-color: var(--fill-color);\n",
              "    }\n",
              "    40% {\n",
              "      border-color: transparent;\n",
              "      border-right-color: var(--fill-color);\n",
              "      border-top-color: var(--fill-color);\n",
              "    }\n",
              "    60% {\n",
              "      border-color: transparent;\n",
              "      border-right-color: var(--fill-color);\n",
              "    }\n",
              "    80% {\n",
              "      border-color: transparent;\n",
              "      border-right-color: var(--fill-color);\n",
              "      border-bottom-color: var(--fill-color);\n",
              "    }\n",
              "    90% {\n",
              "      border-color: transparent;\n",
              "      border-bottom-color: var(--fill-color);\n",
              "    }\n",
              "  }\n",
              "</style>\n",
              "\n",
              "  <script>\n",
              "    async function quickchart(key) {\n",
              "      const quickchartButtonEl =\n",
              "        document.querySelector('#' + key + ' button');\n",
              "      quickchartButtonEl.disabled = true;  // To prevent multiple clicks.\n",
              "      quickchartButtonEl.classList.add('colab-df-spinner');\n",
              "      try {\n",
              "        const charts = await google.colab.kernel.invokeFunction(\n",
              "            'suggestCharts', [key], {});\n",
              "      } catch (error) {\n",
              "        console.error('Error during call to suggestCharts:', error);\n",
              "      }\n",
              "      quickchartButtonEl.classList.remove('colab-df-spinner');\n",
              "      quickchartButtonEl.classList.add('colab-df-quickchart-complete');\n",
              "    }\n",
              "    (() => {\n",
              "      let quickchartButtonEl =\n",
              "        document.querySelector('#df-e2184d0a-620b-4297-98bb-e2d6825daa78 button');\n",
              "      quickchartButtonEl.style.display =\n",
              "        google.colab.kernel.accessAllowed ? 'block' : 'none';\n",
              "    })();\n",
              "  </script>\n",
              "</div>\n",
              "\n",
              "    </div>\n",
              "  </div>\n"
            ],
            "application/vnd.google.colaboratory.intrinsic+json": {
              "type": "dataframe",
              "variable_name": "df",
              "summary": "{\n  \"name\": \"df\",\n  \"rows\": 5000,\n  \"fields\": [\n    {\n      \"column\": \"Avg. Area Income\",\n      \"properties\": {\n        \"dtype\": \"number\",\n        \"std\": 10657.991213830363,\n        \"min\": 17796.631189543397,\n        \"max\": 107701.74837763936,\n        \"num_unique_values\": 5000,\n        \"samples\": [\n          61907.59334528668,\n          57160.20224330715,\n          70190.79644494488\n        ],\n        \"semantic_type\": \"\",\n        \"description\": \"\"\n      }\n    },\n    {\n      \"column\": \"Avg. Area House Age\",\n      \"properties\": {\n        \"dtype\": \"number\",\n        \"std\": 0.9914561798281712,\n        \"min\": 2.644304186036705,\n        \"max\": 9.51908806613594,\n        \"num_unique_values\": 5000,\n        \"samples\": [\n          7.017837824742983,\n          6.893260095195835,\n          6.745053761849909\n        ],\n        \"semantic_type\": \"\",\n        \"description\": \"\"\n      }\n    },\n    {\n      \"column\": \"Avg. Area Number of Rooms\",\n      \"properties\": {\n        \"dtype\": \"number\",\n        \"std\": 1.0058332312773872,\n        \"min\": 3.2361940234262048,\n        \"max\": 10.759588335938624,\n        \"num_unique_values\": 5000,\n        \"samples\": [\n          6.440255754985625,\n          6.921532164642504,\n          6.6625667327280365\n        ],\n        \"semantic_type\": \"\",\n        \"description\": \"\"\n      }\n    },\n    {\n      \"column\": \"Avg. Area Number of Bedrooms\",\n      \"properties\": {\n        \"dtype\": \"number\",\n        \"std\": 1.2341372654846827,\n        \"min\": 2.0,\n        \"max\": 6.5,\n        \"num_unique_values\": 255,\n        \"samples\": [\n          3.5,\n          3.41,\n          3.33\n        ],\n        \"semantic_type\": \"\",\n        \"description\": \"\"\n      }\n    },\n    {\n      \"column\": \"Area Population\",\n      \"properties\": {\n        \"dtype\": \"number\",\n        \"std\": 9925.650113501244,\n        \"min\": 172.61068627290044,\n        \"max\": 69621.7133777904,\n        \"num_unique_values\": 5000,\n        \"samples\": [\n          43828.947207425765,\n          43467.14703549413,\n          29215.13611183857\n        ],\n        \"semantic_type\": \"\",\n        \"description\": \"\"\n      }\n    },\n    {\n      \"column\": \"Price\",\n      \"properties\": {\n        \"dtype\": \"number\",\n        \"std\": 353117.6265810608,\n        \"min\": 15938.657923287848,\n        \"max\": 2469065.5941747027,\n        \"num_unique_values\": 5000,\n        \"samples\": [\n          1339096.0772451318,\n          1251794.178836864,\n          1340094.9662054193\n        ],\n        \"semantic_type\": \"\",\n        \"description\": \"\"\n      }\n    },\n    {\n      \"column\": \"Address\",\n      \"properties\": {\n        \"dtype\": \"string\",\n        \"num_unique_values\": 5000,\n        \"samples\": [\n          \"7521 Gregory Meadows\\nEast Johntown, CO 93230-5255\",\n          \"15828 Marshall Stravenue Suite 199\\nEast Matthewmouth, TN 71861-6319\",\n          \"USNS Brandt\\nFPO AE 72594\"\n        ],\n        \"semantic_type\": \"\",\n        \"description\": \"\"\n      }\n    }\n  ]\n}"
            }
          },
          "metadata": {},
          "execution_count": 63
        }
      ],
      "source": [
        "df.head()"
      ],
      "id": "1e4884bb-83aa-428a-b5b9-9c8ecd46f483"
    },
    {
      "cell_type": "code",
      "execution_count": 64,
      "metadata": {
        "colab": {
          "base_uri": "https://localhost:8080/",
          "height": 303
        },
        "id": "9f03c1e6-6e82-4664-856c-77a952d71b4d",
        "outputId": "f5e630d9-7d95-4172-887e-112cc891e203"
      },
      "outputs": [
        {
          "output_type": "execute_result",
          "data": {
            "text/plain": [
              "Avg. Area Income                0\n",
              "Avg. Area House Age             0\n",
              "Avg. Area Number of Rooms       0\n",
              "Avg. Area Number of Bedrooms    0\n",
              "Area Population                 0\n",
              "Price                           0\n",
              "Address                         0\n",
              "dtype: int64"
            ],
            "text/html": [
              "<div>\n",
              "<style scoped>\n",
              "    .dataframe tbody tr th:only-of-type {\n",
              "        vertical-align: middle;\n",
              "    }\n",
              "\n",
              "    .dataframe tbody tr th {\n",
              "        vertical-align: top;\n",
              "    }\n",
              "\n",
              "    .dataframe thead th {\n",
              "        text-align: right;\n",
              "    }\n",
              "</style>\n",
              "<table border=\"1\" class=\"dataframe\">\n",
              "  <thead>\n",
              "    <tr style=\"text-align: right;\">\n",
              "      <th></th>\n",
              "      <th>0</th>\n",
              "    </tr>\n",
              "  </thead>\n",
              "  <tbody>\n",
              "    <tr>\n",
              "      <th>Avg. Area Income</th>\n",
              "      <td>0</td>\n",
              "    </tr>\n",
              "    <tr>\n",
              "      <th>Avg. Area House Age</th>\n",
              "      <td>0</td>\n",
              "    </tr>\n",
              "    <tr>\n",
              "      <th>Avg. Area Number of Rooms</th>\n",
              "      <td>0</td>\n",
              "    </tr>\n",
              "    <tr>\n",
              "      <th>Avg. Area Number of Bedrooms</th>\n",
              "      <td>0</td>\n",
              "    </tr>\n",
              "    <tr>\n",
              "      <th>Area Population</th>\n",
              "      <td>0</td>\n",
              "    </tr>\n",
              "    <tr>\n",
              "      <th>Price</th>\n",
              "      <td>0</td>\n",
              "    </tr>\n",
              "    <tr>\n",
              "      <th>Address</th>\n",
              "      <td>0</td>\n",
              "    </tr>\n",
              "  </tbody>\n",
              "</table>\n",
              "</div><br><label><b>dtype:</b> int64</label>"
            ]
          },
          "metadata": {},
          "execution_count": 64
        }
      ],
      "source": [
        "df.isna().sum()"
      ],
      "id": "9f03c1e6-6e82-4664-856c-77a952d71b4d"
    },
    {
      "cell_type": "markdown",
      "metadata": {
        "id": "ceee88e7-a879-4653-88e8-0aa94d32b2c0"
      },
      "source": [
        "Ta nhận thấy dataframe này không bị khuyết dữ liệu"
      ],
      "id": "ceee88e7-a879-4653-88e8-0aa94d32b2c0"
    },
    {
      "cell_type": "markdown",
      "metadata": {
        "id": "9eb1d027-97e3-4c3c-82a7-6f9ba08ca02c"
      },
      "source": [
        "Ta sẽ bỏ đi cột `Address` vì trong khuôn khổ bài này ta sẽ không cần gian tâm đến các giá trị đó"
      ],
      "id": "9eb1d027-97e3-4c3c-82a7-6f9ba08ca02c"
    },
    {
      "cell_type": "code",
      "execution_count": 65,
      "metadata": {
        "id": "4f063da2-79a6-40b5-b094-4cb0a17ef15a"
      },
      "outputs": [],
      "source": [
        "### BEGIN SOLUTION\n",
        "df = df.drop(columns=['Address'])\n",
        "### END SOLUTION"
      ],
      "id": "4f063da2-79a6-40b5-b094-4cb0a17ef15a"
    },
    {
      "cell_type": "code",
      "execution_count": 66,
      "metadata": {
        "id": "406add57-6d6d-42d7-9ba7-aa1ad98d21a5"
      },
      "outputs": [],
      "source": [
        "assert df.shape == (5000, 6)"
      ],
      "id": "406add57-6d6d-42d7-9ba7-aa1ad98d21a5"
    },
    {
      "cell_type": "markdown",
      "metadata": {
        "id": "c732f51c-4226-4938-9378-f42b7d539bf3"
      },
      "source": [
        "Ở đây ta sẽ dùng `MinMaxScaler` để scale cột `Avg. Area Income` và `Area Population`"
      ],
      "id": "c732f51c-4226-4938-9378-f42b7d539bf3"
    },
    {
      "cell_type": "code",
      "execution_count": 67,
      "metadata": {
        "colab": {
          "base_uri": "https://localhost:8080/",
          "height": 441
        },
        "id": "a8491a81-6a86-465a-86e1-ca6d82f7ff98",
        "outputId": "a5dd09f0-4c85-4f54-a3ff-1edc7d967d07"
      },
      "outputs": [
        {
          "output_type": "execute_result",
          "data": {
            "text/plain": [
              "      Avg. Area Income  Avg. Area House Age  Avg. Area Number of Rooms  \\\n",
              "0             0.686822             5.682861                   7.009188   \n",
              "1             0.683521             6.002900                   6.730821   \n",
              "2             0.483737             5.865890                   8.512727   \n",
              "3             0.506630             7.188236                   5.586729   \n",
              "4             0.469223             5.040555                   7.839388   \n",
              "...                ...                  ...                        ...   \n",
              "4995          0.475738             7.830362                   6.137356   \n",
              "4996          0.675097             6.999135                   6.576763   \n",
              "4997          0.507135             7.250591                   4.805081   \n",
              "4998          0.558419             5.534388                   7.130144   \n",
              "4999          0.530715             5.992305                   6.792336   \n",
              "\n",
              "      Avg. Area Number of Bedrooms  Area Population         Price  \n",
              "0                             4.09         0.329942  1.059034e+06  \n",
              "1                             3.09         0.575968  1.505891e+06  \n",
              "2                             5.13         0.528582  1.058988e+06  \n",
              "3                             3.26         0.491549  1.260617e+06  \n",
              "4                             4.23         0.376988  6.309435e+05  \n",
              "...                            ...              ...           ...  \n",
              "4995                          3.46         0.326351  1.060194e+06  \n",
              "4996                          4.02         0.366362  1.482618e+06  \n",
              "4997                          2.13         0.476515  1.030730e+06  \n",
              "4998                          5.44         0.611282  1.198657e+06  \n",
              "4999                          4.07         0.667088  1.298950e+06  \n",
              "\n",
              "[5000 rows x 6 columns]"
            ],
            "text/html": [
              "\n",
              "  <div id=\"df-c4a3ed07-e721-4972-a798-211ab5d916e7\" class=\"colab-df-container\">\n",
              "    <div>\n",
              "<style scoped>\n",
              "    .dataframe tbody tr th:only-of-type {\n",
              "        vertical-align: middle;\n",
              "    }\n",
              "\n",
              "    .dataframe tbody tr th {\n",
              "        vertical-align: top;\n",
              "    }\n",
              "\n",
              "    .dataframe thead th {\n",
              "        text-align: right;\n",
              "    }\n",
              "</style>\n",
              "<table border=\"1\" class=\"dataframe\">\n",
              "  <thead>\n",
              "    <tr style=\"text-align: right;\">\n",
              "      <th></th>\n",
              "      <th>Avg. Area Income</th>\n",
              "      <th>Avg. Area House Age</th>\n",
              "      <th>Avg. Area Number of Rooms</th>\n",
              "      <th>Avg. Area Number of Bedrooms</th>\n",
              "      <th>Area Population</th>\n",
              "      <th>Price</th>\n",
              "    </tr>\n",
              "  </thead>\n",
              "  <tbody>\n",
              "    <tr>\n",
              "      <th>0</th>\n",
              "      <td>0.686822</td>\n",
              "      <td>5.682861</td>\n",
              "      <td>7.009188</td>\n",
              "      <td>4.09</td>\n",
              "      <td>0.329942</td>\n",
              "      <td>1.059034e+06</td>\n",
              "    </tr>\n",
              "    <tr>\n",
              "      <th>1</th>\n",
              "      <td>0.683521</td>\n",
              "      <td>6.002900</td>\n",
              "      <td>6.730821</td>\n",
              "      <td>3.09</td>\n",
              "      <td>0.575968</td>\n",
              "      <td>1.505891e+06</td>\n",
              "    </tr>\n",
              "    <tr>\n",
              "      <th>2</th>\n",
              "      <td>0.483737</td>\n",
              "      <td>5.865890</td>\n",
              "      <td>8.512727</td>\n",
              "      <td>5.13</td>\n",
              "      <td>0.528582</td>\n",
              "      <td>1.058988e+06</td>\n",
              "    </tr>\n",
              "    <tr>\n",
              "      <th>3</th>\n",
              "      <td>0.506630</td>\n",
              "      <td>7.188236</td>\n",
              "      <td>5.586729</td>\n",
              "      <td>3.26</td>\n",
              "      <td>0.491549</td>\n",
              "      <td>1.260617e+06</td>\n",
              "    </tr>\n",
              "    <tr>\n",
              "      <th>4</th>\n",
              "      <td>0.469223</td>\n",
              "      <td>5.040555</td>\n",
              "      <td>7.839388</td>\n",
              "      <td>4.23</td>\n",
              "      <td>0.376988</td>\n",
              "      <td>6.309435e+05</td>\n",
              "    </tr>\n",
              "    <tr>\n",
              "      <th>...</th>\n",
              "      <td>...</td>\n",
              "      <td>...</td>\n",
              "      <td>...</td>\n",
              "      <td>...</td>\n",
              "      <td>...</td>\n",
              "      <td>...</td>\n",
              "    </tr>\n",
              "    <tr>\n",
              "      <th>4995</th>\n",
              "      <td>0.475738</td>\n",
              "      <td>7.830362</td>\n",
              "      <td>6.137356</td>\n",
              "      <td>3.46</td>\n",
              "      <td>0.326351</td>\n",
              "      <td>1.060194e+06</td>\n",
              "    </tr>\n",
              "    <tr>\n",
              "      <th>4996</th>\n",
              "      <td>0.675097</td>\n",
              "      <td>6.999135</td>\n",
              "      <td>6.576763</td>\n",
              "      <td>4.02</td>\n",
              "      <td>0.366362</td>\n",
              "      <td>1.482618e+06</td>\n",
              "    </tr>\n",
              "    <tr>\n",
              "      <th>4997</th>\n",
              "      <td>0.507135</td>\n",
              "      <td>7.250591</td>\n",
              "      <td>4.805081</td>\n",
              "      <td>2.13</td>\n",
              "      <td>0.476515</td>\n",
              "      <td>1.030730e+06</td>\n",
              "    </tr>\n",
              "    <tr>\n",
              "      <th>4998</th>\n",
              "      <td>0.558419</td>\n",
              "      <td>5.534388</td>\n",
              "      <td>7.130144</td>\n",
              "      <td>5.44</td>\n",
              "      <td>0.611282</td>\n",
              "      <td>1.198657e+06</td>\n",
              "    </tr>\n",
              "    <tr>\n",
              "      <th>4999</th>\n",
              "      <td>0.530715</td>\n",
              "      <td>5.992305</td>\n",
              "      <td>6.792336</td>\n",
              "      <td>4.07</td>\n",
              "      <td>0.667088</td>\n",
              "      <td>1.298950e+06</td>\n",
              "    </tr>\n",
              "  </tbody>\n",
              "</table>\n",
              "<p>5000 rows × 6 columns</p>\n",
              "</div>\n",
              "    <div class=\"colab-df-buttons\">\n",
              "\n",
              "  <div class=\"colab-df-container\">\n",
              "    <button class=\"colab-df-convert\" onclick=\"convertToInteractive('df-c4a3ed07-e721-4972-a798-211ab5d916e7')\"\n",
              "            title=\"Convert this dataframe to an interactive table.\"\n",
              "            style=\"display:none;\">\n",
              "\n",
              "  <svg xmlns=\"http://www.w3.org/2000/svg\" height=\"24px\" viewBox=\"0 -960 960 960\">\n",
              "    <path d=\"M120-120v-720h720v720H120Zm60-500h600v-160H180v160Zm220 220h160v-160H400v160Zm0 220h160v-160H400v160ZM180-400h160v-160H180v160Zm440 0h160v-160H620v160ZM180-180h160v-160H180v160Zm440 0h160v-160H620v160Z\"/>\n",
              "  </svg>\n",
              "    </button>\n",
              "\n",
              "  <style>\n",
              "    .colab-df-container {\n",
              "      display:flex;\n",
              "      gap: 12px;\n",
              "    }\n",
              "\n",
              "    .colab-df-convert {\n",
              "      background-color: #E8F0FE;\n",
              "      border: none;\n",
              "      border-radius: 50%;\n",
              "      cursor: pointer;\n",
              "      display: none;\n",
              "      fill: #1967D2;\n",
              "      height: 32px;\n",
              "      padding: 0 0 0 0;\n",
              "      width: 32px;\n",
              "    }\n",
              "\n",
              "    .colab-df-convert:hover {\n",
              "      background-color: #E2EBFA;\n",
              "      box-shadow: 0px 1px 2px rgba(60, 64, 67, 0.3), 0px 1px 3px 1px rgba(60, 64, 67, 0.15);\n",
              "      fill: #174EA6;\n",
              "    }\n",
              "\n",
              "    .colab-df-buttons div {\n",
              "      margin-bottom: 4px;\n",
              "    }\n",
              "\n",
              "    [theme=dark] .colab-df-convert {\n",
              "      background-color: #3B4455;\n",
              "      fill: #D2E3FC;\n",
              "    }\n",
              "\n",
              "    [theme=dark] .colab-df-convert:hover {\n",
              "      background-color: #434B5C;\n",
              "      box-shadow: 0px 1px 3px 1px rgba(0, 0, 0, 0.15);\n",
              "      filter: drop-shadow(0px 1px 2px rgba(0, 0, 0, 0.3));\n",
              "      fill: #FFFFFF;\n",
              "    }\n",
              "  </style>\n",
              "\n",
              "    <script>\n",
              "      const buttonEl =\n",
              "        document.querySelector('#df-c4a3ed07-e721-4972-a798-211ab5d916e7 button.colab-df-convert');\n",
              "      buttonEl.style.display =\n",
              "        google.colab.kernel.accessAllowed ? 'block' : 'none';\n",
              "\n",
              "      async function convertToInteractive(key) {\n",
              "        const element = document.querySelector('#df-c4a3ed07-e721-4972-a798-211ab5d916e7');\n",
              "        const dataTable =\n",
              "          await google.colab.kernel.invokeFunction('convertToInteractive',\n",
              "                                                    [key], {});\n",
              "        if (!dataTable) return;\n",
              "\n",
              "        const docLinkHtml = 'Like what you see? Visit the ' +\n",
              "          '<a target=\"_blank\" href=https://colab.research.google.com/notebooks/data_table.ipynb>data table notebook</a>'\n",
              "          + ' to learn more about interactive tables.';\n",
              "        element.innerHTML = '';\n",
              "        dataTable['output_type'] = 'display_data';\n",
              "        await google.colab.output.renderOutput(dataTable, element);\n",
              "        const docLink = document.createElement('div');\n",
              "        docLink.innerHTML = docLinkHtml;\n",
              "        element.appendChild(docLink);\n",
              "      }\n",
              "    </script>\n",
              "  </div>\n",
              "\n",
              "\n",
              "<div id=\"df-6ad05279-5cb6-4728-af43-958431c280ff\">\n",
              "  <button class=\"colab-df-quickchart\" onclick=\"quickchart('df-6ad05279-5cb6-4728-af43-958431c280ff')\"\n",
              "            title=\"Suggest charts\"\n",
              "            style=\"display:none;\">\n",
              "\n",
              "<svg xmlns=\"http://www.w3.org/2000/svg\" height=\"24px\"viewBox=\"0 0 24 24\"\n",
              "     width=\"24px\">\n",
              "    <g>\n",
              "        <path d=\"M19 3H5c-1.1 0-2 .9-2 2v14c0 1.1.9 2 2 2h14c1.1 0 2-.9 2-2V5c0-1.1-.9-2-2-2zM9 17H7v-7h2v7zm4 0h-2V7h2v10zm4 0h-2v-4h2v4z\"/>\n",
              "    </g>\n",
              "</svg>\n",
              "  </button>\n",
              "\n",
              "<style>\n",
              "  .colab-df-quickchart {\n",
              "      --bg-color: #E8F0FE;\n",
              "      --fill-color: #1967D2;\n",
              "      --hover-bg-color: #E2EBFA;\n",
              "      --hover-fill-color: #174EA6;\n",
              "      --disabled-fill-color: #AAA;\n",
              "      --disabled-bg-color: #DDD;\n",
              "  }\n",
              "\n",
              "  [theme=dark] .colab-df-quickchart {\n",
              "      --bg-color: #3B4455;\n",
              "      --fill-color: #D2E3FC;\n",
              "      --hover-bg-color: #434B5C;\n",
              "      --hover-fill-color: #FFFFFF;\n",
              "      --disabled-bg-color: #3B4455;\n",
              "      --disabled-fill-color: #666;\n",
              "  }\n",
              "\n",
              "  .colab-df-quickchart {\n",
              "    background-color: var(--bg-color);\n",
              "    border: none;\n",
              "    border-radius: 50%;\n",
              "    cursor: pointer;\n",
              "    display: none;\n",
              "    fill: var(--fill-color);\n",
              "    height: 32px;\n",
              "    padding: 0;\n",
              "    width: 32px;\n",
              "  }\n",
              "\n",
              "  .colab-df-quickchart:hover {\n",
              "    background-color: var(--hover-bg-color);\n",
              "    box-shadow: 0 1px 2px rgba(60, 64, 67, 0.3), 0 1px 3px 1px rgba(60, 64, 67, 0.15);\n",
              "    fill: var(--button-hover-fill-color);\n",
              "  }\n",
              "\n",
              "  .colab-df-quickchart-complete:disabled,\n",
              "  .colab-df-quickchart-complete:disabled:hover {\n",
              "    background-color: var(--disabled-bg-color);\n",
              "    fill: var(--disabled-fill-color);\n",
              "    box-shadow: none;\n",
              "  }\n",
              "\n",
              "  .colab-df-spinner {\n",
              "    border: 2px solid var(--fill-color);\n",
              "    border-color: transparent;\n",
              "    border-bottom-color: var(--fill-color);\n",
              "    animation:\n",
              "      spin 1s steps(1) infinite;\n",
              "  }\n",
              "\n",
              "  @keyframes spin {\n",
              "    0% {\n",
              "      border-color: transparent;\n",
              "      border-bottom-color: var(--fill-color);\n",
              "      border-left-color: var(--fill-color);\n",
              "    }\n",
              "    20% {\n",
              "      border-color: transparent;\n",
              "      border-left-color: var(--fill-color);\n",
              "      border-top-color: var(--fill-color);\n",
              "    }\n",
              "    30% {\n",
              "      border-color: transparent;\n",
              "      border-left-color: var(--fill-color);\n",
              "      border-top-color: var(--fill-color);\n",
              "      border-right-color: var(--fill-color);\n",
              "    }\n",
              "    40% {\n",
              "      border-color: transparent;\n",
              "      border-right-color: var(--fill-color);\n",
              "      border-top-color: var(--fill-color);\n",
              "    }\n",
              "    60% {\n",
              "      border-color: transparent;\n",
              "      border-right-color: var(--fill-color);\n",
              "    }\n",
              "    80% {\n",
              "      border-color: transparent;\n",
              "      border-right-color: var(--fill-color);\n",
              "      border-bottom-color: var(--fill-color);\n",
              "    }\n",
              "    90% {\n",
              "      border-color: transparent;\n",
              "      border-bottom-color: var(--fill-color);\n",
              "    }\n",
              "  }\n",
              "</style>\n",
              "\n",
              "  <script>\n",
              "    async function quickchart(key) {\n",
              "      const quickchartButtonEl =\n",
              "        document.querySelector('#' + key + ' button');\n",
              "      quickchartButtonEl.disabled = true;  // To prevent multiple clicks.\n",
              "      quickchartButtonEl.classList.add('colab-df-spinner');\n",
              "      try {\n",
              "        const charts = await google.colab.kernel.invokeFunction(\n",
              "            'suggestCharts', [key], {});\n",
              "      } catch (error) {\n",
              "        console.error('Error during call to suggestCharts:', error);\n",
              "      }\n",
              "      quickchartButtonEl.classList.remove('colab-df-spinner');\n",
              "      quickchartButtonEl.classList.add('colab-df-quickchart-complete');\n",
              "    }\n",
              "    (() => {\n",
              "      let quickchartButtonEl =\n",
              "        document.querySelector('#df-6ad05279-5cb6-4728-af43-958431c280ff button');\n",
              "      quickchartButtonEl.style.display =\n",
              "        google.colab.kernel.accessAllowed ? 'block' : 'none';\n",
              "    })();\n",
              "  </script>\n",
              "</div>\n",
              "\n",
              "  <div id=\"id_d82c5343-c01f-458b-8d93-0b645b9d2675\">\n",
              "    <style>\n",
              "      .colab-df-generate {\n",
              "        background-color: #E8F0FE;\n",
              "        border: none;\n",
              "        border-radius: 50%;\n",
              "        cursor: pointer;\n",
              "        display: none;\n",
              "        fill: #1967D2;\n",
              "        height: 32px;\n",
              "        padding: 0 0 0 0;\n",
              "        width: 32px;\n",
              "      }\n",
              "\n",
              "      .colab-df-generate:hover {\n",
              "        background-color: #E2EBFA;\n",
              "        box-shadow: 0px 1px 2px rgba(60, 64, 67, 0.3), 0px 1px 3px 1px rgba(60, 64, 67, 0.15);\n",
              "        fill: #174EA6;\n",
              "      }\n",
              "\n",
              "      [theme=dark] .colab-df-generate {\n",
              "        background-color: #3B4455;\n",
              "        fill: #D2E3FC;\n",
              "      }\n",
              "\n",
              "      [theme=dark] .colab-df-generate:hover {\n",
              "        background-color: #434B5C;\n",
              "        box-shadow: 0px 1px 3px 1px rgba(0, 0, 0, 0.15);\n",
              "        filter: drop-shadow(0px 1px 2px rgba(0, 0, 0, 0.3));\n",
              "        fill: #FFFFFF;\n",
              "      }\n",
              "    </style>\n",
              "    <button class=\"colab-df-generate\" onclick=\"generateWithVariable('df')\"\n",
              "            title=\"Generate code using this dataframe.\"\n",
              "            style=\"display:none;\">\n",
              "\n",
              "  <svg xmlns=\"http://www.w3.org/2000/svg\" height=\"24px\"viewBox=\"0 0 24 24\"\n",
              "       width=\"24px\">\n",
              "    <path d=\"M7,19H8.4L18.45,9,17,7.55,7,17.6ZM5,21V16.75L18.45,3.32a2,2,0,0,1,2.83,0l1.4,1.43a1.91,1.91,0,0,1,.58,1.4,1.91,1.91,0,0,1-.58,1.4L9.25,21ZM18.45,9,17,7.55Zm-12,3A5.31,5.31,0,0,0,4.9,8.1,5.31,5.31,0,0,0,1,6.5,5.31,5.31,0,0,0,4.9,4.9,5.31,5.31,0,0,0,6.5,1,5.31,5.31,0,0,0,8.1,4.9,5.31,5.31,0,0,0,12,6.5,5.46,5.46,0,0,0,6.5,12Z\"/>\n",
              "  </svg>\n",
              "    </button>\n",
              "    <script>\n",
              "      (() => {\n",
              "      const buttonEl =\n",
              "        document.querySelector('#id_d82c5343-c01f-458b-8d93-0b645b9d2675 button.colab-df-generate');\n",
              "      buttonEl.style.display =\n",
              "        google.colab.kernel.accessAllowed ? 'block' : 'none';\n",
              "\n",
              "      buttonEl.onclick = () => {\n",
              "        google.colab.notebook.generateWithVariable('df');\n",
              "      }\n",
              "      })();\n",
              "    </script>\n",
              "  </div>\n",
              "\n",
              "    </div>\n",
              "  </div>\n"
            ],
            "application/vnd.google.colaboratory.intrinsic+json": {
              "type": "dataframe",
              "variable_name": "df",
              "summary": "{\n  \"name\": \"df\",\n  \"rows\": 5000,\n  \"fields\": [\n    {\n      \"column\": \"Avg. Area Income\",\n      \"properties\": {\n        \"dtype\": \"number\",\n        \"std\": 0.1185471032925983,\n        \"min\": 0.0,\n        \"max\": 1.0000000000000002,\n        \"num_unique_values\": 5000,\n        \"samples\": [\n          0.4906390596594859,\n          0.4378346003532683,\n          0.5827717808963473\n        ],\n        \"semantic_type\": \"\",\n        \"description\": \"\"\n      }\n    },\n    {\n      \"column\": \"Avg. Area House Age\",\n      \"properties\": {\n        \"dtype\": \"number\",\n        \"std\": 0.9914561798281712,\n        \"min\": 2.644304186036705,\n        \"max\": 9.51908806613594,\n        \"num_unique_values\": 5000,\n        \"samples\": [\n          7.017837824742983,\n          6.893260095195835,\n          6.745053761849909\n        ],\n        \"semantic_type\": \"\",\n        \"description\": \"\"\n      }\n    },\n    {\n      \"column\": \"Avg. Area Number of Rooms\",\n      \"properties\": {\n        \"dtype\": \"number\",\n        \"std\": 1.0058332312773872,\n        \"min\": 3.2361940234262048,\n        \"max\": 10.759588335938624,\n        \"num_unique_values\": 5000,\n        \"samples\": [\n          6.440255754985625,\n          6.921532164642504,\n          6.6625667327280365\n        ],\n        \"semantic_type\": \"\",\n        \"description\": \"\"\n      }\n    },\n    {\n      \"column\": \"Avg. Area Number of Bedrooms\",\n      \"properties\": {\n        \"dtype\": \"number\",\n        \"std\": 1.2341372654846827,\n        \"min\": 2.0,\n        \"max\": 6.5,\n        \"num_unique_values\": 255,\n        \"samples\": [\n          3.5,\n          3.41,\n          3.33\n        ],\n        \"semantic_type\": \"\",\n        \"description\": \"\"\n      }\n    },\n    {\n      \"column\": \"Area Population\",\n      \"properties\": {\n        \"dtype\": \"number\",\n        \"std\": 0.14291977475345471,\n        \"min\": 0.0,\n        \"max\": 1.0000000000000002,\n        \"num_unique_values\": 5000,\n        \"samples\": [\n          0.6286090795883681,\n          0.6233995065642399,\n          0.4181843148437528\n        ],\n        \"semantic_type\": \"\",\n        \"description\": \"\"\n      }\n    },\n    {\n      \"column\": \"Price\",\n      \"properties\": {\n        \"dtype\": \"number\",\n        \"std\": 353117.6265810608,\n        \"min\": 15938.657923287848,\n        \"max\": 2469065.5941747027,\n        \"num_unique_values\": 5000,\n        \"samples\": [\n          1339096.0772451318,\n          1251794.178836864,\n          1340094.9662054193\n        ],\n        \"semantic_type\": \"\",\n        \"description\": \"\"\n      }\n    }\n  ]\n}"
            }
          },
          "metadata": {},
          "execution_count": 67
        }
      ],
      "source": [
        "from sklearn.model_selection import train_test_split\n",
        "from sklearn.preprocessing import MinMaxScaler\n",
        "\n",
        "scale = MinMaxScaler()\n",
        "df['Avg. Area Income'] = scale.fit_transform(np.array(df['Avg. Area Income']).reshape(-1, 1))\n",
        "df['Area Population'] = scale.fit_transform(np.array(df['Area Population']).reshape(-1, 1))\n",
        "df"
      ],
      "id": "a8491a81-6a86-465a-86e1-ca6d82f7ff98"
    },
    {
      "cell_type": "markdown",
      "metadata": {
        "id": "7abd98d5-63ce-4b79-aeea-955490cc1b2d"
      },
      "source": [
        "Tiếp đến ta sẽ chia dữ liệu thành tập train và test bằng `train_test_split`\n",
        "* Ta gán biến `y` bằng dữ liệu ở cột `Price`\n",
        "* Ta gán biến `x` là dữ liệu ở tất cả các cột còn lại\n",
        "* Sau đó dùng `train_test_split` để chia **x_train, x_test, y_train, y_test = .......** với `random_state=42, test_size=0.01 (điều này có nghĩa 99% dữ liệu ban đầu sẽ dành để huấn luyện và phần còn lại sẽ dùng để kiểm tra)`"
      ],
      "id": "7abd98d5-63ce-4b79-aeea-955490cc1b2d"
    },
    {
      "cell_type": "code",
      "execution_count": 68,
      "metadata": {
        "id": "32b092cf-3945-4bf5-b7fc-bf6f9a23586a"
      },
      "outputs": [],
      "source": [
        "### BEGIN SOLUTION\n",
        "x = df.drop(columns=['Price'])\n",
        "y = df['Price']\n",
        "x_train, x_test, y_train, y_test = train_test_split(x, y, random_state=42, test_size=0.01)\n",
        "\n",
        "\n",
        "\n",
        "### END SOLUTION"
      ],
      "id": "32b092cf-3945-4bf5-b7fc-bf6f9a23586a"
    },
    {
      "cell_type": "markdown",
      "metadata": {
        "id": "0539367f-919f-45d3-97aa-6b2e388fd1bf"
      },
      "source": [
        "### 2. Huấn luyện và đánh giá mô hình"
      ],
      "id": "0539367f-919f-45d3-97aa-6b2e388fd1bf"
    },
    {
      "cell_type": "markdown",
      "metadata": {
        "id": "a15e426a-8bbe-48b0-8140-05484b4719b7"
      },
      "source": [
        "#### 2.1 Mô hình Linear Regression"
      ],
      "id": "a15e426a-8bbe-48b0-8140-05484b4719b7"
    },
    {
      "cell_type": "markdown",
      "metadata": {
        "id": "0cc6a434-507e-4901-8bd2-0d55b3db0c82"
      },
      "source": [
        "Để dùng mô hình Linear Regression ta cần\n",
        "* Khởi tạo một đối tượng mô hình `LinearRegression` và gán nó cho biến `li_r = ......`\n",
        "* Sau đó huấn luyện mô hình khởi tạo trước đó sử dụng dữ liệu `x_train`, `y_train`\n",
        "* Predict ra kết quả của `x_test` và gán vào biến `pred_li = .......`"
      ],
      "id": "0cc6a434-507e-4901-8bd2-0d55b3db0c82"
    },
    {
      "cell_type": "code",
      "execution_count": 69,
      "metadata": {
        "colab": {
          "base_uri": "https://localhost:8080/",
          "height": 488
        },
        "id": "859f097f-a6b4-4c5b-924e-22b2e4425991",
        "outputId": "09ab6daa-c66a-4ab5-ecce-8f1cc9ecdd85"
      },
      "outputs": [
        {
          "output_type": "execute_result",
          "data": {
            "text/plain": [
              "<matplotlib.legend.Legend at 0x7ba840d085d0>"
            ]
          },
          "metadata": {},
          "execution_count": 69
        },
        {
          "output_type": "display_data",
          "data": {
            "text/plain": [
              "<Figure size 640x480 with 1 Axes>"
            ],
            "image/png": "[encoded data removed]"
          },
          "metadata": {}
        }
      ],
      "source": [
        "### BEGIN SOLUTION\n",
        "li_r = LinearRegression()\n",
        "li_r.fit(x_train, y_train)\n",
        "pred_li = li_r.predict(x_test)\n",
        "\n",
        "\n",
        "### END SOLUTION\n",
        "\n",
        "import matplotlib.pyplot as plt\n",
        "\n",
        "plt.scatter(y_test, pred_li, c='blue', label='Dữ liệu thực tế')\n",
        "plt.scatter(pred_li, y_test, c='red', label='Dự đoán')\n",
        "\n",
        "plt.plot([min(y_test), max(y_test)], [min(y_test), max(y_test)], linestyle='-')\n",
        "plt.plot([min(pred_li), max(pred_li)], [min(pred_li), max(pred_li)], linestyle='-')\n",
        "plt.title(\"So sánh Dự đoán và Thực tế\")\n",
        "plt.legend()"
      ],
      "id": "859f097f-a6b4-4c5b-924e-22b2e4425991"
    },
    {
      "cell_type": "markdown",
      "metadata": {
        "id": "f388c9b8-0bf5-44c0-aedc-d02dbb9b1f47"
      },
      "source": [
        "Đây là phân bố của dữ liệu đã dự đoán và thực tế\n",
        "\n",
        "Quá trình so sánh giữa `predict` và `thực tế` gọi là validation"
      ],
      "id": "f388c9b8-0bf5-44c0-aedc-d02dbb9b1f47"
    },
    {
      "cell_type": "markdown",
      "metadata": {
        "id": "b7e03b1d-46ab-44bd-8b89-c75807752099"
      },
      "source": [
        "Ở bước này, ta cần tính độ đo `MSE` bằng hàm `mean_squared_error` và gán vào biến `mse_li`"
      ],
      "id": "b7e03b1d-46ab-44bd-8b89-c75807752099"
    },
    {
      "cell_type": "code",
      "execution_count": 70,
      "metadata": {
        "colab": {
          "base_uri": "https://localhost:8080/"
        },
        "id": "06fcf17e-cc50-4896-8797-946469cbe139",
        "outputId": "ed43781c-e506-4973-bdfb-f8e6110fb2c2"
      },
      "outputs": [
        {
          "output_type": "execute_result",
          "data": {
            "text/plain": [
              "9405950502.281242"
            ]
          },
          "metadata": {},
          "execution_count": 70
        }
      ],
      "source": [
        "### BEGIN SOLUTION\n",
        "mse_li = mean_squared_error(y_test, pred_li)\n",
        "### END SOLUTION\n",
        "mse_li"
      ],
      "id": "06fcf17e-cc50-4896-8797-946469cbe139"
    },
    {
      "cell_type": "markdown",
      "metadata": {
        "id": "e4b73710-b425-4209-a443-524fed3f623a"
      },
      "source": [
        "Và ta cũng có thể tính độ đo `MAE` bằng hàm `mean_absolute_error` và gán vào biến `mae_li`"
      ],
      "id": "e4b73710-b425-4209-a443-524fed3f623a"
    },
    {
      "cell_type": "code",
      "execution_count": 71,
      "metadata": {
        "id": "aa380812-7f41-4a27-aca1-5c657ba43c01"
      },
      "outputs": [],
      "source": [
        "### BEGIN SOLUTION\n",
        "mae_li = mean_absolute_error(y_test, pred_li)\n",
        "### END SOLUTION"
      ],
      "id": "aa380812-7f41-4a27-aca1-5c657ba43c01"
    },
    {
      "cell_type": "markdown",
      "metadata": {
        "id": "c59430d6-7c26-4ad5-8128-65f375c0a6ec"
      },
      "source": [
        "#### 2.2 Mô hình Decision Tree Regressor"
      ],
      "id": "c59430d6-7c26-4ad5-8128-65f375c0a6ec"
    },
    {
      "cell_type": "markdown",
      "metadata": {
        "id": "72169f02-c999-42ad-8a5c-48573de34a5a"
      },
      "source": [
        "Tiếp đến là một mô hình regression khác đó là `DecisionTreeRegressor`\n",
        "* Cũng giống mô hình Linear Regression, đầu tiên ta cần khởi tạo đối tượng `DecisionTreeRegressor` và gán vào biến `de_r`\n",
        "* Tiếp đến ta `fit` `x_train và y_train` ở trên vào mô hình\n",
        "* Ta dùng phương thức `predict` của mô hình để predict `x_test` và gán vào biến `pred_tree`"
      ],
      "id": "72169f02-c999-42ad-8a5c-48573de34a5a"
    },
    {
      "cell_type": "code",
      "execution_count": 72,
      "metadata": {
        "colab": {
          "base_uri": "https://localhost:8080/",
          "height": 488
        },
        "id": "48b2c4e8-9649-4662-b409-d3ab88dee646",
        "outputId": "20570aab-395b-4662-e7b2-faef613e46b7"
      },
      "outputs": [
        {
          "output_type": "execute_result",
          "data": {
            "text/plain": [
              "<matplotlib.legend.Legend at 0x7ba844236590>"
            ]
          },
          "metadata": {},
          "execution_count": 72
        },
        {
          "output_type": "display_data",
          "data": {
            "text/plain": [
              "<Figure size 640x480 with 1 Axes>"
            ],
            "image/png": "[encoded data removed]"
          },
          "metadata": {}
        }
      ],
      "source": [
        "### BEGIN SOLUTION\n",
        "de_r = DecisionTreeRegressor()\n",
        "de_r.fit(x_train, y_train)\n",
        "pred_tree = de_r.predict(x_test)\n",
        "\n",
        "### END SOLUTION\n",
        "import matplotlib.pyplot as plt\n",
        "\n",
        "plt.scatter(y_test, pred_tree, c='blue', label='Dữ liệu thực tế')\n",
        "plt.scatter(pred_tree, y_test, c='red', label='Dự đoán')\n",
        "\n",
        "plt.plot([min(y_test), max(y_test)], [min(y_test), max(y_test)], linestyle='-', color ='red')\n",
        "plt.plot([min(pred_tree), max(pred_tree)], [min(pred_tree), max(pred_tree)], linestyle='-', color ='blue')\n",
        "plt.title(\"So sánh Dự đoán và Thực tế\")\n",
        "plt.legend()"
      ],
      "id": "48b2c4e8-9649-4662-b409-d3ab88dee646"
    },
    {
      "cell_type": "markdown",
      "metadata": {
        "id": "995921a7-b5be-4511-af87-053aeac84018"
      },
      "source": [
        "Tương tự như trên, ta tính độ đo `MSE` và gán vào biến `mse_tree`"
      ],
      "id": "995921a7-b5be-4511-af87-053aeac84018"
    },
    {
      "cell_type": "code",
      "execution_count": 73,
      "metadata": {
        "colab": {
          "base_uri": "https://localhost:8080/"
        },
        "id": "79c058e0-6282-4c69-a5c3-7934137f6b90",
        "outputId": "26786c23-fbba-472b-e588-4cf2dbef8fd1"
      },
      "outputs": [
        {
          "output_type": "execute_result",
          "data": {
            "text/plain": [
              "34201780085.58606"
            ]
          },
          "metadata": {},
          "execution_count": 73
        }
      ],
      "source": [
        "### BEGIN SOLUTION\n",
        "mse_tree = mean_squared_error(y_test, pred_tree)\n",
        "### END SOLUTION\n",
        "mse_tree"
      ],
      "id": "79c058e0-6282-4c69-a5c3-7934137f6b90"
    },
    {
      "cell_type": "markdown",
      "metadata": {
        "id": "60e74cb7-e1f6-425c-b3b6-4594ea625bfb"
      },
      "source": [
        "Tương tự như trên, ta tính độ đo `MAE` và gán vào biến `mae_tree`"
      ],
      "id": "60e74cb7-e1f6-425c-b3b6-4594ea625bfb"
    },
    {
      "cell_type": "code",
      "execution_count": 74,
      "metadata": {
        "colab": {
          "base_uri": "https://localhost:8080/"
        },
        "id": "a875acc7-5e58-462b-96f9-a332f92003aa",
        "outputId": "7cb95440-49b3-4834-aff9-f16881032d5f"
      },
      "outputs": [
        {
          "output_type": "execute_result",
          "data": {
            "text/plain": [
              "147530.89203945897"
            ]
          },
          "metadata": {},
          "execution_count": 74
        }
      ],
      "source": [
        "### BEGIN SOLUTION\n",
        "mae_tree = mean_absolute_error(y_test, pred_tree)\n",
        "### END SOLUTION\n",
        "mae_tree"
      ],
      "id": "a875acc7-5e58-462b-96f9-a332f92003aa"
    },
    {
      "cell_type": "markdown",
      "metadata": {
        "id": "eb13c46d-061e-4c81-ab93-39a4535b84a9"
      },
      "source": [
        "#### 2.3 Mô hình Support Vector Regression (SVR)"
      ],
      "id": "eb13c46d-061e-4c81-ab93-39a4535b84a9"
    },
    {
      "cell_type": "markdown",
      "metadata": {
        "id": "8be18422-306c-4c8a-a5ed-98fe97787c81"
      },
      "source": [
        "Tiếp đến là một mô hình regression khác đó là `SVR`\n",
        "* Cũng giống các mô hình trên, đầu tiên ta cần khởi tạo đối tượng `SVR` và gán vào biến `svr`\n",
        "* Tiếp đến ta `fit` `x_train và y_train` ở trên vào mô hình\n",
        "* Ta dùng phương thức `predict` của mô hình để predict `x_test` và gán vào biến `pred_svr`"
      ],
      "id": "8be18422-306c-4c8a-a5ed-98fe97787c81"
    },
    {
      "cell_type": "code",
      "execution_count": 75,
      "metadata": {
        "colab": {
          "base_uri": "https://localhost:8080/",
          "height": 488
        },
        "id": "f30af085-1fb4-4b06-9e97-1a47a0527a24",
        "outputId": "eeb735f4-e19d-41da-be9b-fa6bfcb03b2c"
      },
      "outputs": [
        {
          "output_type": "execute_result",
          "data": {
            "text/plain": [
              "<matplotlib.legend.Legend at 0x7ba840b357d0>"
            ]
          },
          "metadata": {},
          "execution_count": 75
        },
        {
          "output_type": "display_data",
          "data": {
            "text/plain": [
              "<Figure size 640x480 with 1 Axes>"
            ],
            "image/png": "[encoded data removed]"
          },
          "metadata": {}
        }
      ],
      "source": [
        "### BEGIN SOLUTION\n",
        "svr=SVR()\n",
        "svr.fit(x_train, y_train)\n",
        "pred_svr = svr.predict(x_test)\n",
        "\n",
        "\n",
        "### END SOLUTION\n",
        "import matplotlib.pyplot as plt\n",
        "\n",
        "plt.scatter(y_test, pred_svr, c='blue', label='Dữ liệu thực tế')\n",
        "plt.scatter(pred_svr, y_test, c='red', label='Dự đoán')\n",
        "\n",
        "plt.plot([min(y_test), max(y_test)], [min(y_test), max(y_test)], linestyle='-', color ='red')\n",
        "plt.plot([min(pred_svr), max(pred_svr)], [min(pred_svr), max(pred_svr)], linestyle='-', color ='blue')\n",
        "plt.title(\"So sánh Dự đoán và Thực tế\")\n",
        "plt.legend()"
      ],
      "id": "f30af085-1fb4-4b06-9e97-1a47a0527a24"
    },
    {
      "cell_type": "markdown",
      "metadata": {
        "id": "01aa958b-df2f-4fe2-9b13-361a265652af"
      },
      "source": [
        "Tương tự ở đây ta sẽ tính độ đo `MSE` và gán vào biến `mse_svr`"
      ],
      "id": "01aa958b-df2f-4fe2-9b13-361a265652af"
    },
    {
      "cell_type": "code",
      "execution_count": 76,
      "metadata": {
        "colab": {
          "base_uri": "https://localhost:8080/"
        },
        "id": "0419717a-4ca1-4374-b5f1-0277ff37e468",
        "outputId": "2871783f-efb3-4337-928c-7dc17ff77f63"
      },
      "outputs": [
        {
          "output_type": "execute_result",
          "data": {
            "text/plain": [
              "93305056656.22443"
            ]
          },
          "metadata": {},
          "execution_count": 76
        }
      ],
      "source": [
        "### BEGIN SOLUTION\n",
        "mse_svr = mean_squared_error(y_test, pred_svr)\n",
        "### END SOLUTION\n",
        "mse_svr"
      ],
      "id": "0419717a-4ca1-4374-b5f1-0277ff37e468"
    },
    {
      "cell_type": "markdown",
      "metadata": {
        "id": "07198ed2-ddeb-469c-82a0-7e313da817b9"
      },
      "source": [
        "Và độ đo `MAE` và gán vào biến `mae_svr`"
      ],
      "id": "07198ed2-ddeb-469c-82a0-7e313da817b9"
    },
    {
      "cell_type": "code",
      "execution_count": 77,
      "metadata": {
        "colab": {
          "base_uri": "https://localhost:8080/"
        },
        "id": "e955a081-d3af-46b5-b374-44f2ef45c3c6",
        "outputId": "9c27265a-1b23-4328-98f5-64b872b96d54"
      },
      "outputs": [
        {
          "output_type": "execute_result",
          "data": {
            "text/plain": [
              "256152.25430667962"
            ]
          },
          "metadata": {},
          "execution_count": 77
        }
      ],
      "source": [
        "### BEGIN SOLUTION\n",
        "mae_svr = mean_absolute_error(y_test, pred_svr)\n",
        "### END SOLUTION\n",
        "mae_svr"
      ],
      "id": "e955a081-d3af-46b5-b374-44f2ef45c3c6"
    },
    {
      "cell_type": "markdown",
      "metadata": {
        "id": "e8d73e0c-f955-4588-b925-67e4f2ec841f"
      },
      "source": [
        "#### 2.4 Mô hình K-Neighbors Regressor"
      ],
      "id": "e8d73e0c-f955-4588-b925-67e4f2ec841f"
    },
    {
      "cell_type": "markdown",
      "metadata": {
        "id": "649cae04-9e58-4984-90e4-ec760a0575a6"
      },
      "source": [
        "Mô hình cuối cùng ta tìm hiểu trong bài này đó là `KNRegressor`\n",
        "* Đầu tiên ta cần khởi tạo đối tượng mô hình `KNeighborsRegressor` với tham số `n_neighbors=5` và gán vào biến `knr`\n",
        "* Sau đó ta `fit` và `predict` như ở trên và gán vào biến `pred_knr`"
      ],
      "id": "649cae04-9e58-4984-90e4-ec760a0575a6"
    },
    {
      "cell_type": "code",
      "execution_count": 78,
      "metadata": {
        "colab": {
          "base_uri": "https://localhost:8080/",
          "height": 488
        },
        "id": "84d2bbe2-f8ba-4bb8-a590-c38ba97aa004",
        "outputId": "c09e4667-98bb-4e21-b443-633ea10bb8fe"
      },
      "outputs": [
        {
          "output_type": "execute_result",
          "data": {
            "text/plain": [
              "<matplotlib.legend.Legend at 0x7ba840a19510>"
            ]
          },
          "metadata": {},
          "execution_count": 78
        },
        {
          "output_type": "display_data",
          "data": {
            "text/plain": [
              "<Figure size 640x480 with 1 Axes>"
            ],
            "image/png": "[encoded data removed]"
          },
          "metadata": {}
        }
      ],
      "source": [
        "### BEGIN SOLUTION\n",
        "\n",
        "knr = KNeighborsRegressor(n_neighbors=5)\n",
        "knr.fit(x_train, y_train)\n",
        "pred_knr = knr.predict(x_test)\n",
        "\n",
        "### END SOLUTION\n",
        "\n",
        "plt.scatter(y_test, pred_knr, c='blue', label='Dữ liệu thực tế')\n",
        "plt.scatter(pred_knr, y_test, c='red', label='Dự đoán')\n",
        "plt.plot([min(y_test), max(y_test)], [min(y_test), max(y_test)], linestyle='-', color ='red')\n",
        "plt.plot([min(pred_knr), max(pred_knr)], [min(pred_knr), max(pred_knr)], linestyle='-', color ='blue')\n",
        "plt.title(\"So sánh Dự đoán và Thực tế\")\n",
        "plt.legend()"
      ],
      "id": "84d2bbe2-f8ba-4bb8-a590-c38ba97aa004"
    },
    {
      "cell_type": "markdown",
      "metadata": {
        "id": "3c14a43f-2c68-4cb3-a1c2-38f52bd6aad0"
      },
      "source": [
        "Ta tiếp tục tính 2 độ đo `MSE` và `MAE` và lần lượt gán vào 2 biến `mse_knn` và `mae_knn`"
      ],
      "id": "3c14a43f-2c68-4cb3-a1c2-38f52bd6aad0"
    },
    {
      "cell_type": "code",
      "execution_count": 79,
      "metadata": {
        "colab": {
          "base_uri": "https://localhost:8080/"
        },
        "id": "08249756-d1f0-4f7e-aefa-b10d7e5d04bd",
        "outputId": "db4fce44-e7ed-4ed9-c3a6-dde512862f71"
      },
      "outputs": [
        {
          "output_type": "execute_result",
          "data": {
            "text/plain": [
              "34373343769.55536"
            ]
          },
          "metadata": {},
          "execution_count": 79
        }
      ],
      "source": [
        "### BEGIN SOLUTION\n",
        "mse_knr = mean_squared_error(y_test, pred_knr)\n",
        "### END SOLUTION\n",
        "mse_knr"
      ],
      "id": "08249756-d1f0-4f7e-aefa-b10d7e5d04bd"
    },
    {
      "cell_type": "code",
      "execution_count": 80,
      "metadata": {
        "colab": {
          "base_uri": "https://localhost:8080/"
        },
        "id": "e72e8c27-2b7c-4ebd-96fd-d99046d0047e",
        "outputId": "567a5783-75dc-40a0-e4bd-2fa985479a9b"
      },
      "outputs": [
        {
          "output_type": "execute_result",
          "data": {
            "text/plain": [
              "143461.55096352854"
            ]
          },
          "metadata": {},
          "execution_count": 80
        }
      ],
      "source": [
        "### BEGIN SOLUTION\n",
        "mae_knr = mean_absolute_error(y_test, pred_knr)\n",
        "### END SOLUTION\n",
        "mae_knr"
      ],
      "id": "e72e8c27-2b7c-4ebd-96fd-d99046d0047e"
    },
    {
      "cell_type": "markdown",
      "metadata": {
        "id": "859a6ce1-746a-4488-a41e-9b7629afcc7b"
      },
      "source": [
        "### 3. So sánh kết quả các mô hình"
      ],
      "id": "859a6ce1-746a-4488-a41e-9b7629afcc7b"
    },
    {
      "cell_type": "code",
      "execution_count": 81,
      "metadata": {
        "colab": {
          "base_uri": "https://localhost:8080/",
          "height": 882
        },
        "id": "a69b5ae6-487a-46d2-ba78-2a19d19a87dd",
        "outputId": "f91b269a-2713-4cc9-c9ed-4875fc44c8a3"
      },
      "outputs": [
        {
          "output_type": "display_data",
          "data": {
            "text/plain": [
              "<Figure size 1200x1200 with 2 Axes>"
            ],
            "image/png": "[encoded data removed]"
          },
          "metadata": {}
        }
      ],
      "source": [
        "import seaborn as sns\n",
        "mse = [mse_li, mse_tree, mse_svr, mse_knr]\n",
        "mae = [mae_li, mae_tree, mae_svr, mae_knr]\n",
        "label = ['Linear Regression', 'Decision Tree Regressor', 'SVR', 'KNeighbors Regressor']\n",
        "fig, ax = plt.subplots(1, 2, figsize=(12, 12))\n",
        "sns.barplot(x=label, y=mse, ax=ax[0])\n",
        "ax[0].set_title('MSE')\n",
        "sns.barplot(x=label, y=mae, ax=ax[-1])\n",
        "ax[1].set_title('MAE')\n",
        "plt.tight_layout()"
      ],
      "id": "a69b5ae6-487a-46d2-ba78-2a19d19a87dd"
    },
    {
      "cell_type": "markdown",
      "metadata": {
        "id": "616ccaf7-7c61-43ff-90b7-a3fdb37dc90d"
      },
      "source": [
        "Qua biểu đồ trên, ta có thể thấy được với dữ liệu này thì mô hình `Linear Regression` sẽ cho kết quả tốt nhất trong 4 mô hình"
      ],
      "id": "616ccaf7-7c61-43ff-90b7-a3fdb37dc90d"
    }
  ],
  "metadata": {
    "colab": {
      "provenance": []
    },
    "kernelspec": {
      "display_name": "Python 3 (ipykernel)",
      "language": "python",
      "name": "python3"
    },
    "language_info": {
      "codemirror_mode": {
        "name": "ipython",
        "version": 3
      },
      "file_extension": ".py",
      "mimetype": "text/x-python",
      "name": "python",
      "nbconvert_exporter": "python",
      "pygments_lexer": "ipython3",
      "version": "3.10.12"
    }
  },
  "nbformat": 4,
  "nbformat_minor": 5
}