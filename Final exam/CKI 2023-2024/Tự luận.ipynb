{
 "cells": [
  {
   "cell_type": "markdown",
   "id": "26d3af2e",
   "metadata": {},
   "source": [
    "# Câu 1. (2 điểm) (G1) Hãy hoàn thiện đoạn mã nguồn dưới đây bằng cách áp dụng thư viện scikit-learn trong môi trường Python 3."
   ]
  },
  {
   "cell_type": "code",
   "execution_count": 1,
   "id": "27b74e87",
   "metadata": {},
   "outputs": [
    {
     "ename": "AttributeError",
     "evalue": "'GridSearchCV' object has no attribute 'best_param_'",
     "output_type": "error",
     "traceback": [
      "\u001b[1;31m---------------------------------------------------------------------------\u001b[0m",
      "\u001b[1;31mAttributeError\u001b[0m                            Traceback (most recent call last)",
      "Cell \u001b[1;32mIn[1], line 45\u001b[0m\n\u001b[0;32m     43\u001b[0m y_pred \u001b[38;5;241m=\u001b[39m grid\u001b[38;5;241m.\u001b[39mpredict(X_test)\n\u001b[0;32m     44\u001b[0m \u001b[38;5;66;03m# In ra màn hình bộ siêu tham số tối ưu từ GridSearchCV\u001b[39;00m\n\u001b[1;32m---> 45\u001b[0m \u001b[38;5;28mprint\u001b[39m(\u001b[43mgrid\u001b[49m\u001b[38;5;241;43m.\u001b[39;49m\u001b[43mbest_param_\u001b[49m)\n\u001b[0;32m     46\u001b[0m \u001b[38;5;28mprint\u001b[39m(f1_score(y_test, y_pred, average\u001b[38;5;241m=\u001b[39m\u001b[38;5;124m'\u001b[39m\u001b[38;5;124mweighted\u001b[39m\u001b[38;5;124m'\u001b[39m))\n\u001b[0;32m     47\u001b[0m \u001b[38;5;66;03m# Dự đoán trên tập kiểm thử và tính toán F1-score,\u001b[39;00m\n\u001b[0;32m     48\u001b[0m \u001b[38;5;66;03m# với average='weighted', và in ra màn hình giá trị F1-score\u001b[39;00m\n",
      "\u001b[1;31mAttributeError\u001b[0m: 'GridSearchCV' object has no attribute 'best_param_'"
     ]
    }
   ],
   "source": [
    "from sklearn.datasets import load_iris\n",
    "from sklearn.model_selection import train_test_split\n",
    "from sklearn.model_selection import GridSearchCV\n",
    "from sklearn.metrics import f1_score\n",
    "from sklearn.preprocessing import StandardScaler\n",
    "from sklearn.impute import SimpleImputer\n",
    "from sklearn.ensemble import GradientBoostingClassifier\n",
    "from sklearn.pipeline import Pipeline\n",
    "# Tải dữ liệu về hoa (iris), với X chứa các biến độc lập\n",
    "# và y là biến phụ thuộc\n",
    "X, y = load_iris(return_X_y=True)\n",
    "\n",
    "# Chia dữ liệu thành 80% huấn luyện, 20% kiểm thử,\n",
    "# với random_state=42 để kết quả nhất quán\n",
    "X_train, X_test, y_train, y_test = train_test_split(X, y, test_size=0.2, random_state=42)\n",
    "\n",
    "# Tạo pipeline theo trình tự gồm 3 phần liên tiếp sau:\n",
    "# i) SimpleImputer để xử lý dữ liệu thiếu\n",
    "# ii) StandardScaler để chuẩn hóa dữ liệu\n",
    "# iii) GradientBoostingClassifier như là thuật toán phân loại\n",
    "\n",
    "pipeline = Pipeline([\n",
    "    ('dropnull', SimpleImputer()),\n",
    "    ('scaler', StandardScaler()),\n",
    "    ('classifier', GradientBoostingClassifier())\n",
    "])\n",
    "# Thiết lập các siêu tham số cho GridSearchCV để tối ưu mô hình\n",
    "# - SimpleImputer có strategy 'mean' hoặc 'median'\n",
    "# - GradientBoostingClassifier:\n",
    "# + Số lượng cây (n_estimators): 50, 100, 150\n",
    "# + Tốc độ học (learning_rate): 0.01, 0.1, 0.2\n",
    "# + Độ sâu tối đa của cây (max_depth): 3, 4, 5\n",
    "params = {\n",
    "    'dropnull__strategy' : ['mean', 'median'],\n",
    "    'classifier__n_estimators' : [50, 100, 150],\n",
    "    'classifier__learning_rate' : [0.01, 0.1, 0.2],\n",
    "    'classifier__max_depth' : [3, 4, 5]\n",
    "}\n",
    "# Sử dụng GridSearchCV với phương pháp kiểm định chéo 5 lần,\n",
    "# (cv=5) để chọn siêu tham số tốt nhất\n",
    "grid = GridSearchCV(pipeline, params, cv=5)\n",
    "grid.fit(X_train, y_train)\n",
    "y_pred = grid.predict(X_test)\n",
    "# In ra màn hình bộ siêu tham số tối ưu từ GridSearchCV\n",
    "print(grid.best_param_)\n",
    "print(f1_score(y_test, y_pred, average='weighted'))\n",
    "# Dự đoán trên tập kiểm thử và tính toán F1-score,\n",
    "# với average='weighted', và in ra màn hình giá trị F1-score"
   ]
  }
 ],
 "metadata": {
  "kernelspec": {
   "display_name": "ml-env",
   "language": "python",
   "name": "python3"
  },
  "language_info": {
   "codemirror_mode": {
    "name": "ipython",
    "version": 3
   },
   "file_extension": ".py",
   "mimetype": "text/x-python",
   "name": "python",
   "nbconvert_exporter": "python",
   "pygments_lexer": "ipython3",
   "version": "3.10.17"
  }
 },
 "nbformat": 4,
 "nbformat_minor": 5
}
