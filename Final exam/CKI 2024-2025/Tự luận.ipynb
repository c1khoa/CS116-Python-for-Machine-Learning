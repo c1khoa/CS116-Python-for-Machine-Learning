{
 "cells": [
  {
   "cell_type": "markdown",
   "id": "d9e008b4",
   "metadata": {},
   "source": [
    "Câu 3 (2 điểm) – Dự đoán giá trị đầu ra bằng mô hình hồi quy\n",
    "\n",
    "Bạn được yêu cầu xây dựng một mô hình hồi quy để dự đoán giá trị của y_test dựa trên các đặc trưng trong X_test. Bộ dữ liệu đã được chia thành hai phần:\n",
    "\n",
    "• X_train (61, 122): Mảng với 61 mẫu dữ liệu và 122 đặc trưng (features).\n",
    "\n",
    "• y_train (61,): Mảng với 61 giá trị mục tiêu (output).\n",
    "\n",
    "• X_test (61, 122): Mảng với 61 mẫu dữ liệu kiểm tra.\n",
    "\n",
    "• y_test (61,): Dữ liệu mục tiêu kiểm tra.\n",
    "\n",
    "Trong bộ dữ liệu này, không phải tất cả các cột dữ liệu đều cần thiết để dự đoán giá trị mục tiêu. Một số cột có thể\n",
    "không đóng góp nhiều vào việc dự đoán và có thể gây nhiễu (ví dụ: cột chứa thông tin không liên quan trực tiếp đến\n",
    "mục tiêu). Kết quả dự đoán cuối cùng được xây dựng dựa trên các đặc trưng đã được lựa chọn phù hợp nhằm tối ưu\n",
    "hóa chỉ số RMSE (Root Mean Squared Error). Yêu cầu và ràng buộc:\n",
    "\n",
    "• Bạn chỉ được sử dụng một mô hình duy nhất và không được khai báo thêm thư viện.\n",
    "\n",
    "• Huấn luyện mô hình sao cho đạt được độ chính xác tốt nhất có thể. Tính và in ra RMSE trên tập kiểm tra.\n",
    "\n",
    "• Được phép sử dụng GridSearch nhưng chỉ được phép cho một siêu tham số duy nhất.\n",
    "\n",
    "• In ra chỉ số của các cột chắc chắn đã bị loại bỏ bởi mô hình sau khi huấn luyện.\n",
    "\n",
    "Hãy hoàn thành khối lệnh ### BEGIN SOLUTION ... ### END SOLUTION trong đoạn mã sau đây:"
   ]
  },
  {
   "cell_type": "code",
   "execution_count": 25,
   "id": "5399c72c",
   "metadata": {},
   "outputs": [
    {
     "name": "stdout",
     "output_type": "stream",
     "text": [
      "[2 3]\n",
      "0.1930751996755698\n"
     ]
    }
   ],
   "source": [
    "import numpy as np\n",
    "import pandas as pd\n",
    "from sklearn.metrics import mean_squared_error\n",
    "from sklearn.svm import SVR\n",
    "from sklearn.ensemble import RandomForestRegressor  # ✔️ Đúng\n",
    "from sklearn.linear_model import Ridge, Lasso, LinearRegression\n",
    "from sklearn.model_selection import GridSearchCV, train_test_split\n",
    "                            # # Đọc tập dữ liệu huấn luyện\n",
    "                            # train_data = np.load('train/train_data.npz')\n",
    "                            # X_train = train_data['X_train'] # (61, 122)\n",
    "                            # y_train = train_data['y_train'] # (61,)\n",
    "                            # # Đọc tập dữ liệu kiểm tra\n",
    "                            # X_test = np.load('test/X_test.npz')['X_test'] # (61, 122)\n",
    "                            # y_test = pd.read_json(\"test/y_test.json\", lines=True).squeeze() # (61,)\n",
    "from sklearn.datasets import load_iris\n",
    "X, y = load_iris(return_X_y=True)\n",
    "X_train, X_test, y_train, y_test = train_test_split(X, y, test_size=0.2, random_state=42)\n",
    "### BEGIN SOLUTION\n",
    "# Huấn luyện mô hình\n",
    "lasso = Lasso()\n",
    "params = {\n",
    "    'alpha': [0.001, 0.01, 0.1, 1., 10.]\n",
    "}\n",
    "grid = GridSearchCV(lasso, params, cv=5)\n",
    "grid.fit(X_train, y_train)\n",
    "best_model = grid.best_estimator_\n",
    "best_model.fit(X_train, y_train)\n",
    "# In ra các cột chắc chắn bị loại bỏ bởi mô hình\n",
    "coef = best_model.coef_\n",
    "print(np.where(coef>0)[0])\n",
    "# Tính và in ra RMSE trên tập kiểm tra\n",
    "y_predict = best_model.predict(X_test)\n",
    "print(np.sqrt(mean_squared_error(y_pred=y_predict, y_true=y_test)))\n",
    "### END SOLUTION"
   ]
  }
 ],
 "metadata": {
  "kernelspec": {
   "display_name": "ml-env",
   "language": "python",
   "name": "python3"
  },
  "language_info": {
   "codemirror_mode": {
    "name": "ipython",
    "version": 3
   },
   "file_extension": ".py",
   "mimetype": "text/x-python",
   "name": "python",
   "nbconvert_exporter": "python",
   "pygments_lexer": "ipython3",
   "version": "3.10.17"
  }
 },
 "nbformat": 4,
 "nbformat_minor": 5
}
